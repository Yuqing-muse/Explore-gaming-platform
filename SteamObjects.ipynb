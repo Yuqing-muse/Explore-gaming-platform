{
 "cells": [
  {
   "cell_type": "code",
   "execution_count": 1,
   "metadata": {},
   "outputs": [],
   "source": [
    "class PlayerSummary:\n",
    "\n",
    "    def __init__(self):\n",
    "        pass\n",
    "\n",
    "class FriendList:\n",
    "\n",
    "    def __init__(self):\n",
    "        self.steamid = 0\n",
    "        self.relationship = 'friend'\n",
    "        self.friend_since = datetime.datetime.fromtimestamp(1491194686)\n",
    "        self.friend_sinceunix = 1491194686\n",
    "        \n"
   ]
  },
  {
   "cell_type": "code",
   "execution_count": null,
   "metadata": {},
   "outputs": [],
   "source": []
  }
 ],
 "metadata": {
  "kernelspec": {
   "display_name": "Python 3",
   "language": "python",
   "name": "python3"
  },
  "language_info": {
   "codemirror_mode": {
    "name": "ipython",
    "version": 3
   },
   "file_extension": ".py",
   "mimetype": "text/x-python",
   "name": "python",
   "nbconvert_exporter": "python",
   "pygments_lexer": "ipython3",
   "version": "3.8.3"
  }
 },
 "nbformat": 4,
 "nbformat_minor": 4
}
